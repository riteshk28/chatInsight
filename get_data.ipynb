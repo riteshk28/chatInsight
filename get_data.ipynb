{
 "cells": [
  {
   "cell_type": "code",
   "execution_count": 4,
   "metadata": {},
   "outputs": [],
   "source": [
    "import re\n",
    "import time\n",
    "import pandas as pd\n",
    "import dateutil\n",
    "import matplotlib.pyplot as plt\n",
    "\n",
    "import os\n",
    "import emoji"
   ]
  },
  {
   "cell_type": "code",
   "execution_count": 17,
   "metadata": {},
   "outputs": [],
   "source": [
    "def read_history(file):\n",
    "    f = open('data/{}'.format(file), 'r', encoding='utf8')\n",
    " \n",
    "    # Every text message has the same format: date - sender: message. \n",
    "    messages = re.findall('(\\d+/\\d+/\\d+, \\d+:\\d+\\d+ [A-Z]*) - (.*?): (.*)', f.read())\n",
    "    f.close()\n",
    "\n",
    "    #Convert list to a dataframe and name the columns\n",
    "    history = pd.DataFrame(messages,columns=['date','name','msg'])\n",
    "    #history['date'] = pd.to_datetime(history['date'],format=\"%m/%d/%y, %H:%M\")\n",
    "    history['date'] = pd.to_datetime(history['date'],format=\"%m/%d/%y, %I:%M %p\")\n",
    "    history['date1'] = history['date'].apply(lambda x: x.date())\n",
    "    history['time'] = history['date'].apply(lambda x: x.time())\n",
    "\n",
    "    # file is in the format 'WhatsApp Conversation with XXX.txt'\n",
    "    history['conv_name'] = file[19:-4]\n",
    "\n",
    "    return history"
   ]
  },
  {
   "cell_type": "code",
   "execution_count": 18,
   "metadata": {},
   "outputs": [],
   "source": [
    "files = os.listdir('data')\n",
    "\n",
    "all = []\n",
    "for file in files:\n",
    "    history = read_history(file)\n",
    "    all.append(history)\n",
    "    \n",
    "history = pd.concat(all).reset_index()\n",
    "\n",
    "# Media messages appear as <Media omitted>, so I delete them\n",
    "history_clean = history[history['msg']!=' <Media omitted>']"
   ]
  },
  {
   "cell_type": "code",
   "execution_count": 19,
   "metadata": {},
   "outputs": [],
   "source": [
    "history_clean.to_csv('rave_esc.csv')"
   ]
  }
 ],
 "metadata": {
  "kernelspec": {
   "display_name": "Python 3",
   "language": "python",
   "name": "python3"
  },
  "language_info": {
   "codemirror_mode": {
    "name": "ipython",
    "version": 3
   },
   "file_extension": ".py",
   "mimetype": "text/x-python",
   "name": "python",
   "nbconvert_exporter": "python",
   "pygments_lexer": "ipython3",
   "version": "3.7.3"
  }
 },
 "nbformat": 4,
 "nbformat_minor": 2
}
